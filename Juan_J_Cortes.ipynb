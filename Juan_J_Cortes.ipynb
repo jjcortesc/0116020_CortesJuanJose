{
 "cells": [
  {
   "cell_type": "code",
   "execution_count": 1,
   "metadata": {},
   "outputs": [],
   "source": [
    "def dib_tri(ancho):\n",
    "    '''\n",
    "    Funcion que imprime un triangulo con el valor de entrada del ancho\n",
    "    '''\n",
    "    for i in range(ancho):\n",
    "        print('*'*i)   # A cada punto lo imprime hasta llegar a el ancho final\n"
   ]
  },
  {
   "cell_type": "code",
   "execution_count": null,
   "metadata": {},
   "outputs": [],
   "source": []
  }
 ],
 "metadata": {
  "kernelspec": {
   "display_name": "Python 3",
   "language": "python",
   "name": "python3"
  },
  "language_info": {
   "codemirror_mode": {
    "name": "ipython",
    "version": 3
   },
   "file_extension": ".py",
   "mimetype": "text/x-python",
   "name": "python",
   "nbconvert_exporter": "python",
   "pygments_lexer": "ipython3",
   "version": "3.7.3"
  }
 },
 "nbformat": 4,
 "nbformat_minor": 2
}
